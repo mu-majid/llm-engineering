{
 "cells": [
  {
   "cell_type": "markdown",
   "id": "d15d8294-3328-4e07-ad16-8a03e9bbfdb9",
   "metadata": {},
   "source": [
    "# Welcome to your first assignment!\n",
    "\n",
    "Instructions are below. Please give this a try, and look in the solutions folder if you get stuck (or feel free to ask me!)"
   ]
  },
  {
   "cell_type": "markdown",
   "id": "ada885d9-4d42-4d9b-97f0-74fbbbfe93a9",
   "metadata": {},
   "source": [
    "<table style=\"margin: 0; text-align: left;\">\n",
    "    <tr>\n",
    "        <td style=\"width: 150px; height: 150px; vertical-align: middle;\">\n",
    "            <img src=\"../resources.jpg\" width=\"150\" height=\"150\" style=\"display: block;\" />\n",
    "        </td>\n",
    "        <td>\n",
    "            <h2 style=\"color:#f71;\">Just before we get to the assignment --</h2>\n",
    "            <span style=\"color:#f71;\">I thought I'd take a second to point you at this page of useful resources for the course. This includes links to all the slides.<br/>\n",
    "            <a href=\"https://edwarddonner.com/2024/11/13/llm-engineering-resources/\">https://edwarddonner.com/2024/11/13/llm-engineering-resources/</a><br/>\n",
    "            Please keep this bookmarked, and I'll continue to add more useful links there over time.\n",
    "            </span>\n",
    "        </td>\n",
    "    </tr>\n",
    "</table>"
   ]
  },
  {
   "cell_type": "markdown",
   "id": "6e9fa1fc-eac5-4d1d-9be4-541b3f2b3458",
   "metadata": {},
   "source": [
    "# HOMEWORK EXERCISE ASSIGNMENT\n",
    "\n",
    "Upgrade the day 1 project to summarize a webpage to use an Open Source model running locally via Ollama rather than OpenAI\n",
    "\n",
    "You'll be able to use this technique for all subsequent projects if you'd prefer not to use paid APIs.\n",
    "\n",
    "**Benefits:**\n",
    "1. No API charges - open-source\n",
    "2. Data doesn't leave your box\n",
    "\n",
    "**Disadvantages:**\n",
    "1. Significantly less power than Frontier Model\n",
    "\n",
    "## Recap on installation of Ollama\n",
    "\n",
    "Simply visit [ollama.com](https://ollama.com) and install!\n",
    "\n",
    "Once complete, the ollama server should already be running locally.  \n",
    "If you visit:  \n",
    "[http://localhost:11434/](http://localhost:11434/)\n",
    "\n",
    "You should see the message `Ollama is running`.  \n",
    "\n",
    "If not, bring up a new Terminal (Mac) or Powershell (Windows) and enter `ollama serve`  \n",
    "And in another Terminal (Mac) or Powershell (Windows), enter `ollama pull llama3.2`  \n",
    "Then try [http://localhost:11434/](http://localhost:11434/) again.\n",
    "\n",
    "If Ollama is slow on your machine, try using `llama3.2:1b` as an alternative. Run `ollama pull llama3.2:1b` from a Terminal or Powershell, and change the code below from `MODEL = \"llama3.2\"` to `MODEL = \"llama3.2:1b\"`"
   ]
  },
  {
   "cell_type": "code",
   "execution_count": 1,
   "id": "4e2a9393-7767-488e-a8bf-27c12dca35bd",
   "metadata": {},
   "outputs": [],
   "source": [
    "# imports\n",
    "\n",
    "import requests\n",
    "from bs4 import BeautifulSoup\n",
    "from IPython.display import Markdown, display"
   ]
  },
  {
   "cell_type": "code",
   "execution_count": 2,
   "id": "29ddd15d-a3c5-4f4e-a678-873f56162724",
   "metadata": {},
   "outputs": [],
   "source": [
    "# Constants\n",
    "\n",
    "OLLAMA_API = \"http://localhost:11434/api/chat\"\n",
    "HEADERS = {\"Content-Type\": \"application/json\"}\n",
    "MODEL = \"llama3.2\""
   ]
  },
  {
   "cell_type": "code",
   "execution_count": 3,
   "id": "dac0a679-599c-441f-9bf2-ddc73d35b940",
   "metadata": {},
   "outputs": [],
   "source": [
    "# Create a messages list using the same format that we used for OpenAI\n",
    "\n",
    "messages = [\n",
    "    {\"role\": \"user\", \"content\": \"Describe some of the business applications of Generative AI\"}\n",
    "]"
   ]
  },
  {
   "cell_type": "code",
   "execution_count": 4,
   "id": "7bb9c624-14f0-4945-a719-8ddb64f66f47",
   "metadata": {},
   "outputs": [],
   "source": [
    "payload = {\n",
    "        \"model\": MODEL,\n",
    "        \"messages\": messages,\n",
    "        \"stream\": False\n",
    "    }"
   ]
  },
  {
   "cell_type": "code",
   "execution_count": 5,
   "id": "42b9f644-522d-4e05-a691-56e7658c0ea9",
   "metadata": {},
   "outputs": [
    {
     "name": "stdout",
     "output_type": "stream",
     "text": [
      "Generative AI has numerous business applications across various industries. Here are some examples:\n",
      "\n",
      "1. **Content Generation**: AI-powered tools can generate high-quality content such as blog posts, social media posts, product descriptions, and more. This saves time and resources for content creators and allows them to focus on higher-level creative tasks.\n",
      "\n",
      "2. **Chatbots and Virtual Assistants**: Generative AI enables the creation of conversational interfaces that can understand and respond to user queries in a natural and intuitive way. Chatbots can be used in customer service, tech support, and e-commerce applications.\n",
      "\n",
      "3. **Product Design and Development**: Generative AI can assist in product design by generating 2D and 3D models, textures, and other visual elements. This accelerates the product development process and reduces costs associated with manual design work.\n",
      "\n",
      "4. **Image and Video Generation**: Generative AI algorithms can create realistic images and videos that mimic real-world scenarios or are entirely fictional. Applications include film and TV production, advertising, and social media content creation.\n",
      "\n",
      "5. **Music Composition**: Generative AI can compose music in various styles and genres, allowing for the creation of unique audio tracks for films, advertisements, or other media projects.\n",
      "\n",
      "6. **Data Analytics and Visualization**: Generative AI algorithms can analyze large datasets and create insightful visualizations to help organizations better understand customer behavior, market trends, and other key performance indicators.\n",
      "\n",
      "7. **Predictive Maintenance**: Generative AI-powered predictive maintenance solutions use machine learning algorithms to forecast equipment failures and schedule maintenance activities proactively. This reduces downtime, increases productivity, and minimizes maintenance costs.\n",
      "\n",
      "8. **Personalization**: Generative AI can be used to create personalized content, product recommendations, and experiences tailored to individual customers based on their preferences, behavior, and other factors.\n",
      "\n",
      "9. **Financial Analysis**: Generative AI algorithms can analyze financial data and predict stock market trends, portfolio performance, and risk levels. This helps investors make more informed decisions and optimize their investment strategies.\n",
      "\n",
      "10. **Customer Service Automation**: Generative AI-powered chatbots and virtual assistants can automate routine customer service tasks such as answering frequently asked questions, resolving basic issues, and routing complex queries to human support agents.\n",
      "\n",
      "11. **Marketing Automation**: Generative AI algorithms can generate targeted marketing campaigns based on audience behavior, preferences, and interests. This enables businesses to create personalized and effective marketing messages that resonate with their target audience.\n",
      "\n",
      "12. **Supply Chain Optimization**: Generative AI can analyze supply chain data and forecast demand fluctuations, enabling businesses to optimize inventory levels, reduce waste, and improve delivery times.\n",
      "\n",
      "13. **Predictive Modeling**: Generative AI algorithms can build complex predictive models based on historical data and real-time inputs, helping organizations anticipate future trends, identify new business opportunities, and mitigate risks.\n",
      "\n",
      "14. **Network Optimization**: Generative AI can analyze network topology and optimize it to reduce latency, increase bandwidth, and improve overall network performance.\n",
      "\n",
      "15. **Cybersecurity**: Generative AI-powered security solutions can detect anomalies in network traffic, predict potential threats, and develop customized countermeasures to protect against cyber attacks.\n",
      "\n",
      "These are just a few examples of the many business applications of generative AI. As the technology continues to evolve, we can expect to see even more innovative uses across various industries.\n"
     ]
    }
   ],
   "source": [
    "response = requests.post(OLLAMA_API, json=payload, headers=HEADERS)\n",
    "print(response.json()['message']['content'])"
   ]
  },
  {
   "cell_type": "markdown",
   "id": "6a021f13-d6a1-4b96-8e18-4eae49d876fe",
   "metadata": {},
   "source": [
    "# Introducing the ollama package\n",
    "\n",
    "And now we'll do the same thing, but using the elegant ollama python package instead of a direct HTTP call.\n",
    "\n",
    "Under the hood, it's making the same call as above to the ollama server running at localhost:11434"
   ]
  },
  {
   "cell_type": "code",
   "execution_count": 6,
   "id": "7745b9c4-57dc-4867-9180-61fa5db55eb8",
   "metadata": {},
   "outputs": [
    {
     "name": "stdout",
     "output_type": "stream",
     "text": [
      "Generative AI has numerous business applications across various industries. Here are some examples:\n",
      "\n",
      "1. **Content Generation**: Generative AI can create high-quality content such as articles, social media posts, product descriptions, and even entire books. This saves time and resources for content creators and marketers.\n",
      "2. **Product Design and Development**: Generative AI can design and develop new products, such as furniture, electronics, or even custom clothing. It uses algorithms to generate 3D models, prototypes, and production-ready designs.\n",
      "3. **Marketing Automation**: Generative AI can help automate marketing efforts by generating personalized messages, email campaigns, and social media posts. It also analyzes customer data to predict behavior and optimize marketing strategies.\n",
      "4. **Customer Service Chatbots**: Generative AI-powered chatbots can provide 24/7 customer support, answering common questions and routing complex issues to human representatives.\n",
      "5. **Creative Writing and Storytelling**: Generative AI can write fiction, generate poetry, or even create entire scripts for films and TV shows. This application is particularly useful in the entertainment industry.\n",
      "6. **Data Analysis and Insights**: Generative AI can analyze large datasets to identify patterns, trends, and correlations. It can also generate reports, summaries, and visualizations to help businesses make data-driven decisions.\n",
      "7. **Predictive Maintenance**: Generative AI can predict equipment failures, reducing downtime and increasing overall efficiency in industries like manufacturing, oil & gas, and transportation.\n",
      "8. **Personalized Recommendations**: Generative AI can analyze customer behavior and preferences to provide personalized product recommendations, improving the shopping experience and driving sales.\n",
      "9. **Speech Synthesis**: Generative AI-powered speech synthesis can generate high-quality voiceovers for videos, podcasts, and audiobooks, making it easier to produce professional-sounding content.\n",
      "10. **Business Process Automation**: Generative AI can automate repetitive business processes, such as bookkeeping, accounting, or HR tasks, freeing up staff to focus on higher-value activities.\n",
      "11. **Supply Chain Optimization**: Generative AI can analyze supply chain data to optimize logistics, reduce costs, and improve delivery times.\n",
      "12. **Artificial Intelligence Training Data**: Generative AI can generate synthetic training data for machine learning models, reducing the need for large amounts of labeled data and improving model accuracy.\n",
      "\n",
      "These are just a few examples of the many business applications of Generative AI. As the technology continues to evolve, we can expect to see even more innovative uses across industries.\n"
     ]
    }
   ],
   "source": [
    "import ollama\n",
    "\n",
    "response = ollama.chat(model=MODEL, messages=messages)\n",
    "print(response['message']['content'])"
   ]
  },
  {
   "cell_type": "markdown",
   "id": "a4704e10-f5fb-4c15-a935-f046c06fb13d",
   "metadata": {},
   "source": [
    "## Alternative approach - using OpenAI python library to connect to Ollama"
   ]
  },
  {
   "cell_type": "code",
   "execution_count": 9,
   "id": "23057e00-b6fc-4678-93a9-6b31cb704bff",
   "metadata": {},
   "outputs": [
    {
     "name": "stdout",
     "output_type": "stream",
     "text": [
      "Generative AI has numerous business applications across various industries. Here are some examples:\n",
      "\n",
      "1. **Content Generation**: Generative AI can create high-quality content such as blog posts, social media posts, and product descriptions, reducing the need for human writers and increasing content volume.\n",
      "2. **Virtual Assistants**: AI-powered virtual assistants, like chatbots, can use generative models to generate personalized customer responses, improving customer service and support.\n",
      "3. **Image and Video Generation**: Generative AI can create realistic images and videos for:\n",
      " * Marketing materials (e.g., product showcases)\n",
      " * Social media content\n",
      " * Music and video production\n",
      "4. **Product Design and Development**: Generative AI can aid in:\n",
      " * Product design and prototyping\n",
      " * 3D modeling and rendering\n",
      " * Autonomous vehicle and drone design\n",
      "5. **Predictive Maintenance**: Generative AI can analyze sensor data to predict equipment failures, reducing downtime and improving inventory management.\n",
      "6. **Supply Chain Optimization**: Generative AI can optimize supply chain logistics by:\n",
      " * Predicting demand fluctuations\n",
      " * Identifying optimal transportation routes\n",
      " * Recommendations for inventory management\n",
      "7. **Customer Segmentation and Profiling**: Generative AI can analyze large datasets to predict customer behavior, preferences, and demographics, enabling targeted marketing campaigns.\n",
      "8. **Creative Collaboration**: Generative AI can collaborate with human artists, writers, and designers on creative projects, augmenting their work and generating new ideas.\n",
      "9. **Risk Assessment and Compliance**: Generative AI can analyze vast amounts of data to identify potential risks and compliance issues, helping organizations stay on top of regulatory requirements.\n",
      "10. **Cybersecurity Threat Analysis**: Generative AI can help analyze network traffic patterns and identify potential security threats in real-time, mitigating the risk of cyber-attacks.\n",
      "\n",
      "These applications are just beginning to scratch the surface of what is possible with generative AI. As technology advances, we can expect to see more innovative use cases emerge across industries and businesses.\n",
      "\n",
      "Which specific industry or business application would you like me to explore in greater detail?\n"
     ]
    }
   ],
   "source": [
    "# There's actually an alternative approach that some people might prefer\n",
    "# You can use the OpenAI client python library to call Ollama:\n",
    "\n",
    "from openai import OpenAI\n",
    "ollama_via_openai = OpenAI(base_url='http://localhost:11434/v1', api_key='ollama')\n",
    "\n",
    "response = ollama_via_openai.chat.completions.create(\n",
    "    model=MODEL,\n",
    "    messages=messages\n",
    ")\n",
    "\n",
    "print(response.choices[0].message.content)"
   ]
  },
  {
   "cell_type": "markdown",
   "id": "1622d9bb-5c68-4d4e-9ca4-b492c751f898",
   "metadata": {},
   "source": [
    "# NOW the exercise for you\n",
    "\n",
    "Take the code from day1 and incorporate it here, to build a website summarizer that uses Llama 3.2 running locally instead of OpenAI; use either of the above approaches."
   ]
  },
  {
   "cell_type": "code",
   "execution_count": 10,
   "id": "d8e2b8ce-020b-44e1-bdd4-3ee9e719f5f8",
   "metadata": {},
   "outputs": [],
   "source": [
    "headers = {\n",
    " \"User-Agent\": \"Mozilla/5.0 (Windows NT 10.0; Win64; x64) AppleWebKit/537.36 (KHTML, like Gecko) Chrome/117.0.0.0 Safari/537.36\"\n",
    "}\n",
    "\n",
    "class Website:\n",
    "\n",
    "    def __init__(self, url):\n",
    "        \"\"\"\n",
    "        Create this Website object from the given url using the BeautifulSoup library\n",
    "        \"\"\"\n",
    "        self.url = url\n",
    "        response = requests.get(url, headers=headers)\n",
    "        soup = BeautifulSoup(response.content, 'html.parser')\n",
    "        self.title = soup.title.string if soup.title else \"No title found\"\n",
    "        for irrelevant in soup.body([\"script\", \"style\", \"img\", \"input\"]):\n",
    "            irrelevant.decompose()\n",
    "        self.text = soup.body.get_text(separator=\"\\n\", strip=True)"
   ]
  },
  {
   "cell_type": "code",
   "execution_count": 8,
   "id": "402d5686-4e76-4110-b65a-b3906c35c0a4",
   "metadata": {},
   "outputs": [
    {
     "ename": "NameError",
     "evalue": "name 'ollama_via_openai' is not defined",
     "output_type": "error",
     "traceback": [
      "\u001b[0;31m---------------------------------------------------------------------------\u001b[0m",
      "\u001b[0;31mNameError\u001b[0m                                 Traceback (most recent call last)",
      "Cell \u001b[0;32mIn[8], line 35\u001b[0m\n\u001b[1;32m     32\u001b[0m     summary \u001b[38;5;241m=\u001b[39m summarize_stocks(url)\n\u001b[1;32m     33\u001b[0m     display(Markdown(summary))\n\u001b[0;32m---> 35\u001b[0m \u001b[43mdisplay_summary_stocks\u001b[49m\u001b[43m(\u001b[49m\u001b[38;5;124;43m\"\u001b[39;49m\u001b[38;5;124;43mhttps://finance.yahoo.com/\u001b[39;49m\u001b[38;5;124;43m\"\u001b[39;49m\u001b[43m)\u001b[49m\n",
      "Cell \u001b[0;32mIn[8], line 32\u001b[0m, in \u001b[0;36mdisplay_summary_stocks\u001b[0;34m(url)\u001b[0m\n\u001b[1;32m     31\u001b[0m \u001b[38;5;28;01mdef\u001b[39;00m \u001b[38;5;21mdisplay_summary_stocks\u001b[39m(url):\n\u001b[0;32m---> 32\u001b[0m     summary \u001b[38;5;241m=\u001b[39m \u001b[43msummarize_stocks\u001b[49m\u001b[43m(\u001b[49m\u001b[43murl\u001b[49m\u001b[43m)\u001b[49m\n\u001b[1;32m     33\u001b[0m     display(Markdown(summary))\n",
      "Cell \u001b[0;32mIn[8], line 25\u001b[0m, in \u001b[0;36msummarize_stocks\u001b[0;34m(url)\u001b[0m\n\u001b[1;32m     23\u001b[0m \u001b[38;5;28;01mdef\u001b[39;00m \u001b[38;5;21msummarize_stocks\u001b[39m(url):\n\u001b[1;32m     24\u001b[0m     website \u001b[38;5;241m=\u001b[39m Website(url)\n\u001b[0;32m---> 25\u001b[0m     response \u001b[38;5;241m=\u001b[39m \u001b[43mollama_via_openai\u001b[49m\u001b[38;5;241m.\u001b[39mchat\u001b[38;5;241m.\u001b[39mcompletions\u001b[38;5;241m.\u001b[39mcreate(\n\u001b[1;32m     26\u001b[0m         model\u001b[38;5;241m=\u001b[39mMODEL,\n\u001b[1;32m     27\u001b[0m         messages\u001b[38;5;241m=\u001b[39mmessages_for_stocks(website)\n\u001b[1;32m     28\u001b[0m     )\n\u001b[1;32m     29\u001b[0m     \u001b[38;5;28;01mreturn\u001b[39;00m response\u001b[38;5;241m.\u001b[39mchoices[\u001b[38;5;241m0\u001b[39m]\u001b[38;5;241m.\u001b[39mmessage\u001b[38;5;241m.\u001b[39mcontent\n",
      "\u001b[0;31mNameError\u001b[0m: name 'ollama_via_openai' is not defined"
     ]
    }
   ],
   "source": [
    "# A function that writes a User Prompt that asks for summaries of websites:\n",
    "system_prompt_s = \"You are an assistant that analyzes the contents of yahoo finance website \\\n",
    "and provides a short summary, ignoring text that might be navigation related. \\\n",
    "Respond in markdown.\"\n",
    "def user_prompt_for_stocks(website):\n",
    "    user_prompt = f\"You are looking at a yahoo finance website titled {website.title}\"\n",
    "    user_prompt += \"\\nThe contents of this website is as follows; \\\n",
    "please provide a short summary of this website in markdown. \\\n",
    "If it includes news or announcements about any stocks around the world going up or down, any world crisis that might affect the stock market. \\\n",
    "Also please make a table of the prices of the top 10 stock and etfs going up or down around the world. \\\n",
    "Also ignore all the news related to the crypto, and focus only on the stocks \\\n",
    "Please analyse all the news and check if there's a predicted shift in specific stock prices.\\n\\n\"\n",
    "    user_prompt += website.text\n",
    "    return user_prompt\n",
    "\n",
    "def messages_for_stocks(website):\n",
    "    return [\n",
    "        {\"role\": \"system\", \"content\": system_prompt_s},\n",
    "        {\"role\": \"user\", \"content\": user_prompt_for_stocks(website)}\n",
    "    ]\n",
    "\n",
    "\n",
    "def summarize_stocks(url):\n",
    "    website = Website(url)\n",
    "    response = ollama_via_openai.chat.completions.create(\n",
    "        model=MODEL,\n",
    "        messages=messages_for_stocks(website)\n",
    "    )\n",
    "    return response.choices[0].message.content\n",
    "    \n",
    "def display_summary_stocks(url):\n",
    "    summary = summarize_stocks(url)\n",
    "    display(Markdown(summary))\n",
    "    \n",
    "display_summary_stocks(\"https://finance.yahoo.com/\")"
   ]
  },
  {
   "cell_type": "code",
   "execution_count": null,
   "id": "ce05d0cf-5018-4756-82ad-c7f43fe7cc41",
   "metadata": {},
   "outputs": [],
   "source": []
  }
 ],
 "metadata": {
  "kernelspec": {
   "display_name": "Python 3 (ipykernel)",
   "language": "python",
   "name": "python3"
  },
  "language_info": {
   "codemirror_mode": {
    "name": "ipython",
    "version": 3
   },
   "file_extension": ".py",
   "mimetype": "text/x-python",
   "name": "python",
   "nbconvert_exporter": "python",
   "pygments_lexer": "ipython3",
   "version": "3.11.11"
  }
 },
 "nbformat": 4,
 "nbformat_minor": 5
}
