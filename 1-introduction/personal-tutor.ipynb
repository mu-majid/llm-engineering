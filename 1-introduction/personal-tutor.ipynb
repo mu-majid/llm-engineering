{
 "cells": [
  {
   "cell_type": "markdown",
   "id": "fe12c203-e6a6-452c-a655-afb8a03a4ff5",
   "metadata": {},
   "source": [
    "# End of week 1 exercise\n",
    "\n",
    "To demonstrate your familiarity with OpenAI API, and also Ollama, build a tool that takes a technical question,  \n",
    "and responds with an explanation. This is a tool that you will be able to use yourself during the course!"
   ]
  },
  {
   "cell_type": "code",
   "execution_count": 1,
   "id": "c1070317-3ed9-4659-abe3-828943230e03",
   "metadata": {},
   "outputs": [],
   "source": [
    "# imports\n",
    "from dotenv import load_dotenv\n",
    "from IPython.display import Markdown, display, update_display\n",
    "from openai import OpenAI\n",
    "import ollama"
   ]
  },
  {
   "cell_type": "code",
   "execution_count": 2,
   "id": "4a456906-915a-4bfd-bb9d-57e505c5093f",
   "metadata": {},
   "outputs": [],
   "source": [
    "# constants\n",
    "\n",
    "MODEL_GPT = 'gpt-4o-mini'\n",
    "MODEL_LLAMA = 'llama3.2'"
   ]
  },
  {
   "cell_type": "code",
   "execution_count": 4,
   "id": "a8d7923c-5f28-4c30-8556-342d7c8497c1",
   "metadata": {},
   "outputs": [],
   "source": [
    "# set up environment\n",
    "load_dotenv()\n",
    "# api_key = os.getenv('OPENAI_API_KEY')\n",
    "\n",
    "# if api_key and api_key.startswith('sk-proj-') and len(api_key)>10:\n",
    "#     print(\"API key looks good so far\")\n",
    "# else:\n",
    "#     print(\"There might be a problem with your API key? Please visit the troubleshooting notebook!\")\n",
    "\n",
    "openai = OpenAI()"
   ]
  },
  {
   "cell_type": "code",
   "execution_count": 5,
   "id": "3f0d0137-52b0-47a8-81a8-11a90a010798",
   "metadata": {},
   "outputs": [],
   "source": [
    "# here is the question; type over this to ask something new\n",
    "\n",
    "question = \"\"\"\n",
    "Please explain what this code does and why:\n",
    "yield from {book.get(\"author\") for book in books if book.get(\"author\")}\n",
    "\"\"\""
   ]
  },
  {
   "cell_type": "code",
   "execution_count": 6,
   "id": "305026ed",
   "metadata": {},
   "outputs": [],
   "source": [
    "messages=[\n",
    "    {\"role\": \"system\", \"content\": \"You are a software tutor trying to understand pieces of python code given to you, break down the code and explain the logic it represent. You are also good at answering questions about LLMs and data science.\"},\n",
    "    {\"role\": \"user\", \"content\": \"Please give a detailed explanation to the following question: \" + question}\n",
    "]"
   ]
  },
  {
   "cell_type": "code",
   "execution_count": 7,
   "id": "60ce7000-a4a5-4cce-a261-e75ef45063b4",
   "metadata": {},
   "outputs": [
    {
     "data": {
      "text/markdown": [
       "This line of code utilizes a generator expression with `yield from`, combined with a set comprehension to extract specific information from a collection of dictionaries (presumably representing books) called `books`. Let's break it down step by step:\n",
       "\n",
       "1. **Generator Expression**: The expression starts with `yield from`, which is used within a generator function. A generator function is a special type of function in Python that allows you to iterate over a sequence of values without needing to create and store the entire sequence in memory. The `yield` statement is used to yield a value, and `yield from` is used to yield all values from another iterable (like a list, tuple, or set).\n",
       "\n",
       "2. **Set comprehension**: `{book.get(\"author\") for book in books if book.get(\"author\")}` is a set comprehension. It constructs a set of unique authors from the `books` collection. Here's how it works:\n",
       "   - **Iteration**: It iterates over each `book` in the `books` collection.\n",
       "   - **`book.get(\"author\")`**: For each `book`, it attempts to get the value associated with the key \"author\". The `get` method is used here because it safely attempts to retrieve the value and returns `None` if the key does not exist, preventing any `KeyError` exceptions in case some dictionaries do not have the \"author\" key.\n",
       "   - **Filtering**: The clause `if book.get(\"author\")` acts as a filter, ensuring that only books with a valid (non-None) author are included in the set comprehension. If the author's value is `None` or evaluates to `False`, that book is skipped.\n",
       "\n",
       "3. **Construction of the Set**: The result of the set comprehension is a set containing the unique authors of the books in the `books` collection. Using a set removes any duplicate author names, providing a collection of distinct authors.\n",
       "\n",
       "4. **Yielding Authors**: Finally, the `yield from` statement yields each unique author name from the constructed set one at a time, allowing the caller of the generator function to iterate over the unique authors as if they were calling the generator function.\n",
       "\n",
       "### Summary\n",
       "In summary, this line of code is designed to:\n",
       "- Iterate through a collection of books.\n",
       "- Extract unique authors from these books, skipping any entries where the author is `None`.\n",
       "- Yield each unique author one at a time, making it convenient for the caller to process or use the individual author names.\n",
       "\n",
       "### Example\n",
       "For example, if `books` contains:\n",
       "python\n",
       "books = [\n",
       "    {\"title\": \"Book 1\", \"author\": \"Author A\"},\n",
       "    {\"title\": \"Book 2\", \"author\": \"Author B\"},\n",
       "    {\"title\": \"Book 3\"},  # No author\n",
       "    {\"title\": \"Book 4\", \"author\": \"Author A\"},  # Duplicate author\n",
       "]\n",
       "\n",
       "The code effectively collects the authors from the list:\n",
       "- The set comprehension results in `{\"Author A\", \"Author B\"}` (note that `Author A` is only counted once).\n",
       "- The generator will yield \"Author A\" and \"Author B\" when iterated over.\n",
       "\n",
       "This design is particularly useful in scenarios where authors might be duplicated across different book entries, and when dealing with large datasets, as it uses memory efficiently by generating data on-the-fly."
      ],
      "text/plain": [
       "<IPython.core.display.Markdown object>"
      ]
     },
     "metadata": {},
     "output_type": "display_data"
    }
   ],
   "source": [
    "# Get gpt-4o-mini to answer, with streaming\n",
    "stream = openai.chat.completions.create(model=MODEL_GPT,messages=messages,stream=True)\n",
    "    \n",
    "response = \"\"\n",
    "display_handle = display(Markdown(\"\"), display_id=True)\n",
    "for chunk in stream:\n",
    "    response += chunk.choices[0].delta.content or ''\n",
    "    response = response.replace(\"```\",\"\").replace(\"markdown\", \"\")\n",
    "    update_display(Markdown(response), display_id=display_handle.display_id)"
   ]
  },
  {
   "cell_type": "code",
   "execution_count": 8,
   "id": "8f7c8ea8-4082-4ad0-8751-3301adcf6538",
   "metadata": {},
   "outputs": [
    {
     "data": {
      "text/markdown": [
       "**Code Breakdown**\n",
       "\n",
       "The given code snippet is written in Python 3.x and utilizes generators, specifically `yield from`. Here's a step-by-step explanation of what the code does:\n",
       "\n",
       "```python\n",
       "# The outer expression: {book.get(\"author\") for book in books if book.get(\"author\")}\n",
       "```\n",
       "\n",
       "This is an example of a dictionary comprehension in Python. It creates a new dictionary (not shown here, but implied) where each key-value pair is generated by iterating over the `books` collection.\n",
       "\n",
       "*   `for book in books`: This part iterates over each item (`book`) in the `books` collection.\n",
       "*   `if book.get(\"author\")`: For each book, this condition checks if the book has an \"author\" key present and its value is not empty (using `get()` method which returns `None` by default if the key does not exist). If the author exists and is non-empty, the iteration continues.\n",
       "\n",
       "Now let's break down what happens inside the comprehension:\n",
       "\n",
       "```python\n",
       "# Inner expression: book.get(\"author\")\n",
       "book.get(\"author\")  # Retrieves the value associated with \"author\" key in the current book dictionary.\n",
       "```\n",
       "\n",
       "This will return the author name of each book for which the condition was met (i.e., the book has an author).\n",
       "\n",
       "**The `yield from` statement**\n",
       "\n",
       "```python\n",
       "# Outer expression: yield from ...\n",
       "yield from {book.get(\"author\") for book in books if book.get(\"author\")}\n",
       "```\n",
       "\n",
       "Here, we're using a feature called \" generator expressions\" to create a new iterator that yields values from the inner dictionary comprehension.\n",
       "\n",
       "*   `yield from`: This keyword allows us to delegate iteration to another iterable (in this case, the dictionary comprehension) and have its values yielded as if they were our own.\n",
       "*   `{book.get(\"author\") for book in books if book.get(\"author\")}`: As explained earlier, this creates a dictionary comprehension that yields author names from books with authors.\n",
       "\n",
       "When we use `yield from`, it's equivalent to writing:\n",
       "\n",
       "```python\n",
       "# Create an empty list to store the results\n",
       "result = []\n",
       "\n",
       "# Iterate over each book and its author name\n",
       "for book, author in books:\n",
       "    if book.get(\"author\"):\n",
       "        result.append(author)\n",
       "\n",
       "# Yield the elements of the list (as a generator)\n",
       "yield from result\n",
       "```\n",
       "\n",
       "However, using `yield from` is more memory-efficient than storing all results in a list because it doesn't require extra space to store the entire list.\n",
       "\n",
       "**Example Use Case**\n",
       "\n",
       "Suppose we have a collection of books where each book has an author. We want to extract and process only the authors with valid names (i.e., not empty).\n",
       "\n",
       "```python\n",
       "books = [\n",
       "    {\"title\": \"Book 1\", \"author\": \"John Smith\"},\n",
       "    {\"title\": \"Book 2\", \"author\": \"\"},\n",
       "    {\"title\": \"Book 3\", \"author\": \"Jane Doe\"}\n",
       "]\n",
       "\n",
       "# Extract and yield only authors with valid names\n",
       "for author in yield from {book.get(\"author\") for book in books if book.get(\"author\")}:\n",
       "    print(author)\n",
       "```\n",
       "\n",
       "This code will output:\n",
       "\n",
       "```\n",
       "John Smith\n",
       "Jane Doe\n",
       "```\n",
       "\n",
       "Because the empty string is not considered a valid author name."
      ],
      "text/plain": [
       "<IPython.core.display.Markdown object>"
      ]
     },
     "metadata": {},
     "output_type": "display_data"
    }
   ],
   "source": [
    "# Get Llama 3.2 to answer\n",
    "response = ollama.chat(model=MODEL_LLAMA, messages=messages)\n",
    "reply = response['message']['content']\n",
    "display(Markdown(reply))"
   ]
  },
  {
   "cell_type": "code",
   "execution_count": null,
   "id": "5510a866-60ff-4bdf-a94d-2aa0bba680c2",
   "metadata": {},
   "outputs": [],
   "source": []
  }
 ],
 "metadata": {
  "kernelspec": {
   "display_name": "Python 3 (ipykernel)",
   "language": "python",
   "name": "python3"
  },
  "language_info": {
   "codemirror_mode": {
    "name": "ipython",
    "version": 3
   },
   "file_extension": ".py",
   "mimetype": "text/x-python",
   "name": "python",
   "nbconvert_exporter": "python",
   "pygments_lexer": "ipython3",
   "version": "3.11.11"
  }
 },
 "nbformat": 4,
 "nbformat_minor": 5
}
