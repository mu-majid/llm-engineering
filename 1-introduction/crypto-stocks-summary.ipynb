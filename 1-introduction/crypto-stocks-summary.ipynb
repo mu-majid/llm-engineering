{
 "cells": [
  {
   "cell_type": "markdown",
   "id": "89f4a685-e2c9-49dc-adeb-f8ba7879e4e4",
   "metadata": {},
   "source": [
    "Getting latest news on crypto and stocks for my personal tracking purposes.\n",
    "\n",
    "for crypto: I will use https://decrypt.co/\n",
    "for stocks: I will use yahoo finance api"
   ]
  },
  {
   "cell_type": "code",
   "execution_count": 1,
   "id": "cca5f04a-f1f4-42bf-928a-810fd96d29f7",
   "metadata": {},
   "outputs": [],
   "source": [
    "import os\n",
    "import requests\n",
    "from dotenv import load_dotenv\n",
    "from bs4 import BeautifulSoup\n",
    "from IPython.display import Markdown, display\n",
    "from openai import OpenAI"
   ]
  },
  {
   "cell_type": "code",
   "execution_count": 2,
   "id": "54df4d68-0490-4b03-8526-64cbb21b239c",
   "metadata": {},
   "outputs": [
    {
     "name": "stdout",
     "output_type": "stream",
     "text": [
      "API key found and looks good so far!\n"
     ]
    }
   ],
   "source": [
    "# Load environment variables in a file called .env\n",
    "\n",
    "load_dotenv()\n",
    "api_key = os.getenv('OPENAI_API_KEY')\n",
    "\n",
    "# Check the key\n",
    "\n",
    "if not api_key:\n",
    "    print(\"No API key was found - please head over to the troubleshooting notebook in this folder to identify & fix!\")\n",
    "elif not api_key.startswith(\"sk-proj-\"):\n",
    "    print(\"An API key was found, but it doesn't start sk-proj-; please check you're using the right key - see troubleshooting notebook\")\n",
    "elif api_key.strip() != api_key:\n",
    "    print(\"An API key was found, but it looks like it might have space or tab characters at the start or end - please remove them - see troubleshooting notebook\")\n",
    "else:\n",
    "    print(\"API key found and looks good so far!\")"
   ]
  },
  {
   "cell_type": "code",
   "execution_count": 3,
   "id": "cc395f83-e83f-4290-9c3d-6ef04d11bd44",
   "metadata": {},
   "outputs": [],
   "source": [
    "openai = OpenAI()\n",
    "\n",
    "# If this doesn't work, try Kernel menu >> Restart Kernel and Clear Outputs Of All Cells, then run the cells from the top of this notebook down.\n",
    "# If it STILL doesn't work (horrors!) then please see the troubleshooting notebook, or try the below line instead:\n",
    "# openai = OpenAI(api_key=\"your-key-here-starting-sk-proj-\")"
   ]
  },
  {
   "cell_type": "markdown",
   "id": "3d2a97bc-add6-4c05-ad3a-92d7db3e67ce",
   "metadata": {},
   "source": [
    "Now we have to have a closer look at the decrypt website for proper scraping and analysing of the data."
   ]
  },
  {
   "cell_type": "code",
   "execution_count": 4,
   "id": "39e1503b-71c0-4732-9d70-3f24a607887e",
   "metadata": {},
   "outputs": [],
   "source": [
    "# A class to represent a Webpage - decrypt\n",
    "headers = {\n",
    " \"User-Agent\": \"Mozilla/5.0 (Windows NT 10.0; Win64; x64) AppleWebKit/537.36 (KHTML, like Gecko) Chrome/117.0.0.0 Safari/537.36\"\n",
    "}\n",
    "\n",
    "class Website:\n",
    "\n",
    "    def __init__(self, url):\n",
    "        \"\"\"\n",
    "        Create this Website object from the given url using the BeautifulSoup library\n",
    "        \"\"\"\n",
    "        self.url = url\n",
    "        response = requests.get(url, headers=headers)\n",
    "        soup = BeautifulSoup(response.content, 'html.parser')\n",
    "        self.title = soup.title.string if soup.title else \"No title found\"\n",
    "        for irrelevant in soup.body([\"script\", \"style\", \"img\", \"input\"]):\n",
    "            irrelevant.decompose()\n",
    "        self.text = soup.body.get_text(separator=\"\\n\", strip=True)"
   ]
  },
  {
   "cell_type": "code",
   "execution_count": null,
   "id": "73ae8f56-56c8-4b49-a8a8-82dee953ed38",
   "metadata": {},
   "outputs": [],
   "source": [
    "# Block for Yahoo Finance API\n"
   ]
  },
  {
   "cell_type": "code",
   "execution_count": null,
   "id": "bdfa08bb-ae5e-4c1c-adba-67ac16f88279",
   "metadata": {},
   "outputs": [],
   "source": [
    "# A function that writes a User Prompt that asks for summaries of websites:\n",
    "system_prompt = \"You are an assistant that analyzes the contents of a cryptocurrency  website \\\n",
    "and provides a short summary, ignoring text that might be navigation related. \\\n",
    "Respond in markdown.\"\n",
    "def user_prompt_for_crypto(website):\n",
    "    user_prompt = f\"You are looking at a cryptocurrencies website titled {website.title}\"\n",
    "    user_prompt += \"\\nThe contents of this website is as follows; \\\n",
    "please provide a short summary of this website in markdown. \\\n",
    "If it includes news or announcements about any coins' prices going up or down, then summarize these too. \\\n",
    "Also please make a table of the prices of the different coins prices and their percentage change. Format the table nicely so that every coin shows on a separate row of its own.\\n\\n\"\n",
    "    user_prompt += website.text\n",
    "    return user_prompt\n",
    "    "
   ]
  },
  {
   "cell_type": "code",
   "execution_count": null,
   "id": "1f530c90-591a-4d22-b87a-77e61be80c92",
   "metadata": {},
   "outputs": [],
   "source": [
    "# See how this function creates exactly the format above\n",
    "\n",
    "def messages_for(website):\n",
    "    return [\n",
    "        {\"role\": \"system\", \"content\": system_prompt},\n",
    "        {\"role\": \"user\", \"content\": user_prompt_for_crypto(website)}\n",
    "    ]"
   ]
  },
  {
   "cell_type": "code",
   "execution_count": null,
   "id": "3df223ec-b5dd-44bd-8705-82c8a574963d",
   "metadata": {},
   "outputs": [],
   "source": [
    "def summarize_crypto(url):\n",
    "    website = Website(url)\n",
    "    response = openai.chat.completions.create(\n",
    "        model = \"gpt-4o-mini\",\n",
    "        messages = messages_for(website)\n",
    "    )\n",
    "    return response.choices[0].message.content"
   ]
  },
  {
   "cell_type": "code",
   "execution_count": null,
   "id": "f230b862-4b91-4b90-b3ea-97c55ecadf02",
   "metadata": {},
   "outputs": [],
   "source": [
    "\n",
    "def display_summary(url):\n",
    "    summary = summarize_crypto(url)\n",
    "    display(Markdown(summary))"
   ]
  },
  {
   "cell_type": "code",
   "execution_count": null,
   "id": "0e9ae81c-3a03-4c7a-92c9-02748ba24e15",
   "metadata": {
    "scrolled": true
   },
   "outputs": [],
   "source": [
    "display_summary(\"https://decrypt.co/\")"
   ]
  },
  {
   "cell_type": "code",
   "execution_count": 8,
   "id": "5661f3b3-09a6-41c2-acbc-ac28e9467e7f",
   "metadata": {},
   "outputs": [
    {
     "data": {
      "text/markdown": [
       "# Yahoo Finance Summary\n",
       "\n",
       "Yahoo Finance serves as a comprehensive platform for tracking the stock market, offering live quotes and business news. The site provides in-depth analysis of recent financial trends, including notable movements in major stock indices and individual stocks.\n",
       "\n",
       "## Key News Highlights\n",
       "- **Tesla (TSLA)** aims for a record close after a significant uptrend, surging by 5.28%.\n",
       "- **Nvidia (NVDA)** also saw gains of 3.45%, reflecting investor confidence amidst tensions related to the US-China tech war.\n",
       "- The market reacted positively to inflation data, indicating potential for a Federal Reserve interest rate cut next week.\n",
       "\n",
       "### Global Market Impacts\n",
       "- The market is witnessing fluctuations due to various external factors, including economic indicators and geopolitical tensions.\n",
       "- Analysts predict a bullish market outlook and highlight sectors to watch in 2025 for ETF investors. \n",
       "\n",
       "## Stock Price Movements\n",
       "Here’s a summary of the top 10 stocks and ETFs that are experiencing significant changes today:\n",
       "\n",
       "| Stock/ETF                  | Price    | Change (%)    |\n",
       "|---------------------------|----------|---------------|\n",
       "| **Top Gainers**           |          |               |\n",
       "| Patterson Companies (PDCO)| $31.06   | +34.37%       |\n",
       "| ReNew Energy (RNW)       | $7.48    | +17.98%       |\n",
       "| Rigetti Computing (RGTI)  | $7.29    | +12.25%       |\n",
       "| JetBlue Airways (JBLU)   | $7.54    | +11.14%       |\n",
       "| **Top Losers**            |          |               |\n",
       "| Bausch + Lomb (BLCO)     | $18.06   | -12.54%       |\n",
       "| IonQ, Inc. (IONQ)        | $30.07   | -8.81%        |\n",
       "| Bausch Health (BHC)      | $7.61    | -8.59%        |\n",
       "| CG Oncology (CGON)       | $31.18   | -7.47%        |\n",
       "| C3.ai, Inc. (AI)        | $38.70   | -7.27%        |\n",
       "\n",
       "### Predicted Shifts in Stock Prices\n",
       "- Positive expectations are set for **airline stocks** and large tech companies given the recent CPI report.\n",
       "- The outlook for **American companies** like Apple (AAPL) remains mixed with a slight decline in price, indicating a potential volatility in future valuations.\n",
       "\n",
       "Overall, the Yahoo Finance platform continues to provide essential insights and timely updates for investors navigating the stock market."
      ],
      "text/plain": [
       "<IPython.core.display.Markdown object>"
      ]
     },
     "metadata": {},
     "output_type": "display_data"
    }
   ],
   "source": [
    "# A function that writes a User Prompt that asks for summaries of websites:\n",
    "system_prompt_s = \"You are an assistant that analyzes the contents of yahoo finance website \\\n",
    "and provides a short summary, ignoring text that might be navigation related. \\\n",
    "Respond in markdown.\"\n",
    "def user_prompt_for_stocks(website):\n",
    "    user_prompt = f\"You are looking at a yahoo finance website titled {website.title}\"\n",
    "    user_prompt += \"\\nThe contents of this website is as follows; \\\n",
    "please provide a short summary of this website in markdown. \\\n",
    "If it includes news or announcements about any stocks around the world going up or down, any world crisis that might affect the stock market. \\\n",
    "Also please make a table of the prices of the top 10 stock and etfs going up or down around the world. \\\n",
    "Also ignore all the news related to the crypto, and focus only on the stocks \\\n",
    "Please analyse all the news and check if there's a predicted shift in specific stock prices.\\n\\n\"\n",
    "    user_prompt += website.text\n",
    "    return user_prompt\n",
    "\n",
    "def messages_for_stocks(website):\n",
    "    return [\n",
    "        {\"role\": \"system\", \"content\": system_prompt_s},\n",
    "        {\"role\": \"user\", \"content\": user_prompt_for_stocks(website)}\n",
    "    ]\n",
    "\n",
    "\n",
    "def summarize_stocks(url):\n",
    "    website = Website(url)\n",
    "    response = openai.chat.completions.create(\n",
    "        model = \"gpt-4o-mini\",\n",
    "        messages = messages_for_stocks(website)\n",
    "    )\n",
    "    return response.choices[0].message.content\n",
    "    \n",
    "def display_summary_stocks(url):\n",
    "    summary = summarize_stocks(url)\n",
    "    display(Markdown(summary))\n",
    "    \n",
    "display_summary_stocks(\"https://finance.yahoo.com/\")"
   ]
  },
  {
   "cell_type": "code",
   "execution_count": null,
   "id": "a583b0f4-37a9-48ac-80ca-433fd289c0e2",
   "metadata": {},
   "outputs": [],
   "source": []
  }
 ],
 "metadata": {
  "kernelspec": {
   "display_name": "Python 3 (ipykernel)",
   "language": "python",
   "name": "python3"
  },
  "language_info": {
   "codemirror_mode": {
    "name": "ipython",
    "version": 3
   },
   "file_extension": ".py",
   "mimetype": "text/x-python",
   "name": "python",
   "nbconvert_exporter": "python",
   "pygments_lexer": "ipython3",
   "version": "3.11.11"
  }
 },
 "nbformat": 4,
 "nbformat_minor": 5
}
