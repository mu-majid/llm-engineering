{
 "cells": [
  {
   "cell_type": "markdown",
   "id": "d006b2ea-9dfe-49c7-88a9-a5a0775185fd",
   "metadata": {},
   "source": [
    "# Additional End of week Exercise - week 2\n",
    "\n",
    "1. Add Another Tool to make a booking. (Just print that a booking is done).\n",
    "2. Add An Agnet that translates all responses to a different language and shows on the right hand side, using a different fronrier model.\n",
    "3. Add an agent that can listen for Audio and convert it to Text."
   ]
  },
  {
   "cell_type": "markdown",
   "id": "8783fb65-2626-4d9e-aa67-d7504eb560c0",
   "metadata": {},
   "source": [
    "## Initialisations and Definitions \n",
    "\n",
    "Here We will do some imports and define the tools we will use for getting a price and booking a ticket."
   ]
  },
  {
   "cell_type": "code",
   "execution_count": 2,
   "id": "a07e7793-b8f5-44f4-aded-5562f633271a",
   "metadata": {},
   "outputs": [],
   "source": [
    "import os\n",
    "import json\n",
    "from dotenv import load_dotenv\n",
    "from openai import OpenAI\n",
    "import gradio as gr"
   ]
  },
  {
   "cell_type": "code",
   "execution_count": 3,
   "id": "16666d4d-2009-4a7c-933b-9286caaba12f",
   "metadata": {},
   "outputs": [
    {
     "name": "stdout",
     "output_type": "stream",
     "text": [
      "OpenAI API Key exists and begins sk-proj-\n"
     ]
    }
   ],
   "source": [
    "# Initialization\n",
    "\n",
    "load_dotenv()\n",
    "\n",
    "openai_api_key = os.getenv('OPENAI_API_KEY')\n",
    "if openai_api_key:\n",
    "    print(f\"OpenAI API Key exists and begins {openai_api_key[:8]}\")\n",
    "else:\n",
    "    print(\"OpenAI API Key not set\")\n",
    "    \n",
    "MODEL = \"gpt-4o-mini\"\n",
    "openai = OpenAI()"
   ]
  },
  {
   "cell_type": "code",
   "execution_count": 4,
   "id": "2be5f834-e762-4b5a-84a0-780e347603fd",
   "metadata": {},
   "outputs": [],
   "source": [
    "system_message = \"You are a helpful assistant for an Airline called FlightAI. \"\n",
    "system_message += \"Give short, courteous answers, no more than 1 sentence. \"\n",
    "system_message += \"Always be accurate. If you don't know the answer, say so.\""
   ]
  },
  {
   "cell_type": "code",
   "execution_count": 5,
   "id": "a705ed02-fcae-4207-9e4a-baae27ec017b",
   "metadata": {},
   "outputs": [],
   "source": [
    "# Let's start by making a useful function\n",
    "\n",
    "ticket_prices = {\"london\": \"$799\", \"paris\": \"$899\", \"tokyo\": \"$1400\", \"berlin\": \"$499\"}\n",
    "\n",
    "def get_ticket_price(destination_city):\n",
    "    print(f\"Tool get_ticket_price called for {destination_city}\")\n",
    "    city = destination_city.lower()\n",
    "    return ticket_prices.get(city, \"Unknown\")"
   ]
  },
  {
   "cell_type": "code",
   "execution_count": 6,
   "id": "b9e4e79a-05b0-422a-9b61-d0c4b1c42074",
   "metadata": {},
   "outputs": [],
   "source": [
    "# Acts as a Database\n",
    "bookings_records = {}\n",
    "\n",
    "def book_ticket(destination_city, num_tickets, ticket_class, mail_address):\n",
    "    ticket_price = int(get_ticket_price(destination_city).replace(\"$\", \"\"))\n",
    "    total_booking_price = num_tickets * ticket_price\n",
    "    bookings_records.setdefault(mail_address, []).append({'paid': total_booking_price, 'destination': destination_city, 'number_of_tickets': num_tickets})\n",
    "    return 'Tickets to ' + destination_city + ' Booked'\n",
    "    "
   ]
  },
  {
   "cell_type": "code",
   "execution_count": 7,
   "id": "5821922d-395e-479c-ac26-1b530384ef2a",
   "metadata": {},
   "outputs": [],
   "source": [
    "# There's a particular dictionary structure that's required to describe our function:\n",
    "\n",
    "price_function = {\n",
    "    \"name\": \"get_ticket_price\",\n",
    "    \"description\": \"Get the price of a return ticket to the destination city. Call this whenever you need to know the ticket price, for example when a customer asks 'How much is a ticket to this city'\",\n",
    "    \"parameters\": {\n",
    "        \"type\": \"object\",\n",
    "        \"properties\": {\n",
    "            \"destination_city\": {\n",
    "                \"type\": \"string\",\n",
    "                \"description\": \"The city that the customer wants to travel to\",\n",
    "            },\n",
    "        },\n",
    "        \"required\": [\"destination_city\"],\n",
    "        \"additionalProperties\": False\n",
    "    }\n",
    "}"
   ]
  },
  {
   "cell_type": "code",
   "execution_count": 15,
   "id": "dc209ce6-9c59-4f87-8c1c-04d619686285",
   "metadata": {},
   "outputs": [],
   "source": [
    "booking_function = {\n",
    "        \"name\": \"book_ticket\",\n",
    "        \"description\": \"Book a ticket to a destination city.\",\n",
    "        \"parameters\": {\n",
    "            \"type\": \"object\",\n",
    "            \"properties\": {\n",
    "                \"destination_city\": {\n",
    "                    \"type\": \"string\",\n",
    "                    \"description\": \"The city the customer wants to travel to\",\n",
    "                },\n",
    "                \"num_tickets\": {\n",
    "                    \"type\": \"integer\",\n",
    "                    \"description\": \"The number of tickets to book\",\n",
    "                },\n",
    "                \"ticket_class\": {\n",
    "                    \"type\": \"string\",\n",
    "                    \"description\": \"The class of the ticket (e.g., economy, business)\",\n",
    "                },\n",
    "\n",
    "                \"mail_address\": {\n",
    "                    \"type\": \"string\",\n",
    "                    \"description\": \"Mail address to send the ticket to\",\n",
    "                },\n",
    "            },\n",
    "            \"required\": [\"destination_city\", \"num_tickets\", \"ticket_class\", \"mail_address\"],\n",
    "            \"additionalProperties\": False\n",
    "        }\n",
    "}"
   ]
  },
  {
   "cell_type": "code",
   "execution_count": 16,
   "id": "3be8f8b5-bd4c-4133-9f44-3c4958ca293b",
   "metadata": {},
   "outputs": [],
   "source": [
    "# And this is included in a list of tools:\n",
    "\n",
    "tools = [{\"type\": \"function\", \"function\": price_function}, {\"type\": \"function\", \"function\": booking_function}]"
   ]
  },
  {
   "cell_type": "markdown",
   "id": "0c554be3-83c2-4756-88b0-40d06721c19a",
   "metadata": {},
   "source": [
    "## Application\n",
    "\n",
    "In this step, the App is created, communicate with OpenAI, use the two tools we provided, and handle them."
   ]
  },
  {
   "cell_type": "code",
   "execution_count": 17,
   "id": "df6ef6c9-d198-4db5-b853-dc6047b98a05",
   "metadata": {},
   "outputs": [],
   "source": [
    "def chat(message, history):\n",
    "    messages = [{\"role\": \"system\", \"content\": system_message}] + history + [{\"role\": \"user\", \"content\": message}]\n",
    "    response = openai.chat.completions.create(model=MODEL, messages=messages, tools=tools)\n",
    "\n",
    "    if response.choices[0].finish_reason==\"tool_calls\":\n",
    "        message = response.choices[0].message\n",
    "        response = handle_tool_call(message)\n",
    "        messages.append(message) # Message from Agent\n",
    "        messages.append(response) # Our response to the message using tools\n",
    "        response = openai.chat.completions.create(model=MODEL, messages=messages)\n",
    "    \n",
    "    return response.choices[0].message.content"
   ]
  },
  {
   "cell_type": "code",
   "execution_count": 20,
   "id": "e838f44f-9596-4817-bff6-938ba9f22f9f",
   "metadata": {},
   "outputs": [],
   "source": [
    "# We have to write that function handle_tool_call:\n",
    "\n",
    "def handle_tool_call(message):\n",
    "    tool_call = message.tool_calls[0]\n",
    "    if tool_call.function.name == \"get_ticket_price\":\n",
    "        arguments = json.loads(tool_call.function.arguments)\n",
    "        city = arguments.get('destination_city')\n",
    "        price = get_ticket_price(city)\n",
    "        response = {\n",
    "            \"role\": \"tool\",\n",
    "            \"content\": json.dumps({\"destination_city\": city,\"price\": price}),\n",
    "            \"tool_call_id\": message.tool_calls[0].id\n",
    "        }\n",
    "        return response\n",
    "    elif tool_call.function.name == \"book_ticket\":\n",
    "        arguments = json.loads(tool_call.function.arguments)\n",
    "        destination_city = arguments.get('destination_city')\n",
    "        num_tickets = arguments.get('num_tickets')\n",
    "        ticket_class = arguments.get('ticket_class')\n",
    "        mail_address = arguments.get('mail_address')\n",
    "        result = book_ticket(destination_city, num_tickets, ticket_class, mail_address)\n",
    "        print(result + \"\\n\")\n",
    "        response = {\n",
    "            \"role\": \"tool\",\n",
    "            \"content\": json.dumps({\"destination_city\": destination_city,\"num_tickets\": num_tickets, \"ticket_class\": ticket_class}),\n",
    "            \"tool_call_id\": message.tool_calls[0].id\n",
    "        }\n",
    "        return response"
   ]
  },
  {
   "cell_type": "code",
   "execution_count": 21,
   "id": "aaf22235-772c-42b6-b6b0-fa2943d25462",
   "metadata": {},
   "outputs": [
    {
     "name": "stdout",
     "output_type": "stream",
     "text": [
      "* Running on local URL:  http://127.0.0.1:7866\n",
      "\n",
      "To create a public link, set `share=True` in `launch()`.\n"
     ]
    },
    {
     "data": {
      "text/html": [
       "<div><iframe src=\"http://127.0.0.1:7866/\" width=\"100%\" height=\"500\" allow=\"autoplay; camera; microphone; clipboard-read; clipboard-write;\" frameborder=\"0\" allowfullscreen></iframe></div>"
      ],
      "text/plain": [
       "<IPython.core.display.HTML object>"
      ]
     },
     "metadata": {},
     "output_type": "display_data"
    },
    {
     "data": {
      "text/plain": []
     },
     "execution_count": 21,
     "metadata": {},
     "output_type": "execute_result"
    },
    {
     "name": "stdout",
     "output_type": "stream",
     "text": [
      "Tool get_ticket_price called for London\n",
      "Tool get_ticket_price called for London\n",
      "Tickets to London Booked\n",
      "\n"
     ]
    }
   ],
   "source": [
    "gr.ChatInterface(fn=chat, type=\"messages\").launch()"
   ]
  },
  {
   "cell_type": "code",
   "execution_count": 22,
   "id": "74b8f084-99ec-46a0-b8ec-d336a6b8d10c",
   "metadata": {},
   "outputs": [
    {
     "name": "stdout",
     "output_type": "stream",
     "text": [
      "{'mail@awesome.com': [{'paid': 1598, 'destination': 'London', 'number_of_tickets': 2}]}\n"
     ]
    }
   ],
   "source": [
    "print(bookings_records)"
   ]
  },
  {
   "cell_type": "markdown",
   "id": "42b6fef6-bda8-4646-80e1-4f5c892a66d7",
   "metadata": {},
   "source": [
    "## Real Time Translator\n",
    "\n",
    "The idea is to translate the chat going on between the user and the chat bot to German on the right hand side."
   ]
  },
  {
   "cell_type": "code",
   "execution_count": 54,
   "id": "4b0f72af-94e3-4b76-b875-30789026813a",
   "metadata": {},
   "outputs": [],
   "source": [
    "def translate_message(text, target_language=\"de\"):\n",
    "    \"\"\"\n",
    "    Function to translate the text using GPT model.\n",
    "    `target_language` specifies the language to translate the text to (default is Spanish).\n",
    "    \"\"\"\n",
    "    prompt = f\"Translate the following message to {target_language}: {text}\"\n",
    "\n",
    "    # Making a call to GPT-4 to perform the translation\n",
    "    response = openai.chat.completions.create(\n",
    "        model=MODEL,  # You can also use gpt-3.5-turbo or a smaller version\n",
    "        messages=[\n",
    "            {\"role\": \"system\", \"content\": \"You are a helpful translator.\"},\n",
    "            {\"role\": \"user\", \"content\": prompt}\n",
    "        ],\n",
    "        max_tokens=200,\n",
    "        temperature=0.3\n",
    "    )\n",
    "\n",
    "    translated_text = response.choices[0].message.content\n",
    "    return translated_text\n",
    "\n",
    "    \n",
    "def translate_chat(conversation, target_language=\"de\"):\n",
    "    \"\"\"\n",
    "    Translate the entire chat conversation between user and chatbot.\n",
    "    `conversation` is a list of dictionaries containing 'role' (user or assistant) and 'message'.\n",
    "    \"\"\"\n",
    "    translated_conversation = []\n",
    "\n",
    "    for message in conversation:\n",
    "        role = message.get(\"role\")\n",
    "        original_text = message.get(\"content\")\n",
    "        \n",
    "        translated_text = translate_message(original_text, target_language)\n",
    "        \n",
    "        translated_conversation.append({\n",
    "            \"role\": role,\n",
    "            \"message\": translated_text\n",
    "        })\n",
    "\n",
    "    return translated_conversation\n",
    "    \n"
   ]
  },
  {
   "cell_type": "code",
   "execution_count": 57,
   "id": "90eedbf0-ee5a-4894-8d07-38ab8b754347",
   "metadata": {},
   "outputs": [],
   "source": [
    "def chat(history):\n",
    "    messages = [{\"role\": \"system\", \"content\": system_message}] + history\n",
    "    response = openai.chat.completions.create(model=MODEL, messages=messages, tools=tools)\n",
    "    \n",
    "    if response.choices[0].finish_reason==\"tool_calls\":\n",
    "        message = response.choices[0].message\n",
    "        response = handle_tool_call(message)\n",
    "        messages.append(message)\n",
    "        messages.append(response)\n",
    "        response = openai.chat.completions.create(model=MODEL, messages=messages)\n",
    "\n",
    "    reply = response.choices[0].message.content\n",
    "    history += [{\"role\":\"assistant\", \"content\":reply}]\n",
    "    translated_conversation = translate_chat(history, target_language=\"de\")\n",
    "    print(translated_conversation)\n",
    "    return history, translation"
   ]
  },
  {
   "cell_type": "code",
   "execution_count": 58,
   "id": "a72288ba-d52b-4191-a98b-311d48201eea",
   "metadata": {},
   "outputs": [
    {
     "name": "stdout",
     "output_type": "stream",
     "text": [
      "* Running on local URL:  http://127.0.0.1:7878\n",
      "\n",
      "To create a public link, set `share=True` in `launch()`.\n"
     ]
    },
    {
     "data": {
      "text/html": [
       "<div><iframe src=\"http://127.0.0.1:7878/\" width=\"100%\" height=\"500\" allow=\"autoplay; camera; microphone; clipboard-read; clipboard-write;\" frameborder=\"0\" allowfullscreen></iframe></div>"
      ],
      "text/plain": [
       "<IPython.core.display.HTML object>"
      ]
     },
     "metadata": {},
     "output_type": "display_data"
    },
    {
     "data": {
      "text/plain": []
     },
     "execution_count": 58,
     "metadata": {},
     "output_type": "execute_result"
    },
    {
     "name": "stdout",
     "output_type": "stream",
     "text": [
      "[{'role': 'user', 'message': 'Hallo, wie geht es dir heute?'}, {'role': 'assistant', 'message': 'Ich bin nur ein Programm, aber ich bin hier, um Ihnen zu helfen! Wie kann ich Ihnen heute helfen?'}]\n",
      "[{'role': 'user', 'message': 'Hallo, wie geht es dir heute?'}, {'role': 'assistant', 'message': 'Ich bin nur ein Programm, aber ich bin hier, um Ihnen zu helfen! Wie kann ich Ihnen heute behilflich sein?'}, {'role': 'user', 'message': 'Ich möchte nach London reisen.'}, {'role': 'assistant', 'message': 'Sicher! Wie viele Tickets benötigen Sie und welche Klasse würden Sie bevorzugen?'}]\n",
      "[{'role': 'user', 'message': 'Hallo, wie geht es dir heute?'}, {'role': 'assistant', 'message': 'Ich bin nur ein Programm, aber ich bin hier, um Ihnen zu helfen! Wie kann ich Ihnen heute behilflich sein?'}, {'role': 'user', 'message': 'Ich möchte nach London reisen.'}, {'role': 'assistant', 'message': 'Sicher! Wie viele Tickets benötigen Sie und welche Klasse bevorzugen Sie?'}, {'role': 'user', 'message': '2 Tickets, Business Class'}, {'role': 'assistant', 'message': 'Bitte geben Sie die E-Mail-Adresse an, an die die Tickets gesendet werden sollen.'}]\n",
      "Tool get_ticket_price called for London\n",
      "[{'role': 'user', 'message': 'Hallo, wie geht es dir heute?'}, {'role': 'assistant', 'message': 'Ich bin nur ein Programm, aber ich bin hier, um Ihnen zu helfen! Wie kann ich Ihnen heute behilflich sein?'}, {'role': 'user', 'message': 'Ich möchte nach London reisen.'}, {'role': 'assistant', 'message': 'Sicher! Wie viele Tickets benötigen Sie und welche Klasse würden Sie bevorzugen?'}, {'role': 'user', 'message': '2 Tickets, Business Class'}, {'role': 'assistant', 'message': 'Bitte geben Sie die E-Mail-Adresse an, an die die Tickets gesendet werden sollen.'}, {'role': 'user', 'message': 'The message \"mymail@awesome.com\" does not require translation as it is an email address. Email addresses are typically not translated. If you need assistance with something else, please let me know!'}, {'role': 'assistant', 'message': 'Der Gesamtpreis für zwei Business-Class-Tickets nach London beträgt 1.598 $. Möchten Sie mit dem Kauf fortfahren?'}]\n",
      "Tool get_ticket_price called for London\n",
      "Tickets to London Booked\n",
      "\n",
      "[{'role': 'user', 'message': 'Hallo, wie geht es dir heute?'}, {'role': 'assistant', 'message': 'Ich bin nur ein Programm, aber ich bin hier, um Ihnen zu helfen! Wie kann ich Ihnen heute behilflich sein?'}, {'role': 'user', 'message': 'Ich möchte nach London reisen.'}, {'role': 'assistant', 'message': 'Sicher! Wie viele Tickets benötigen Sie und welche Klasse bevorzugen Sie?'}, {'role': 'user', 'message': '2 Tickets, Business Class'}, {'role': 'assistant', 'message': 'Bitte geben Sie die E-Mail-Adresse an, an die die Tickets gesendet werden sollen.'}, {'role': 'user', 'message': 'The message \"mymail@awesome.com\" does not require translation as it is an email address. Email addresses remain the same across different languages. If you need assistance with something else, feel free to ask!'}, {'role': 'assistant', 'message': 'Der Gesamtpreis für zwei Business-Class-Tickets nach London beträgt 1.598 $. Möchten Sie mit dem Kauf fortfahren?'}, {'role': 'user', 'message': 'Ja, bitte.'}, {'role': 'assistant', 'message': 'Ihre Business-Class-Tickets nach London wurden erfolgreich gebucht und werden an Ihre E-Mail-Adresse gesendet. Vielen Dank, dass Sie mit uns fliegen!'}]\n"
     ]
    }
   ],
   "source": [
    "with gr.Blocks() as ui:\n",
    "    with gr.Row():\n",
    "        chatbot = gr.Chatbot(height=500, type=\"messages\")\n",
    "        translation = gr.Textbox()\n",
    "    with gr.Row():\n",
    "        entry = gr.Textbox(label=\"Chat with our AI Assistant:\")\n",
    "    with gr.Row():\n",
    "        clear = gr.Button(\"Clear\")\n",
    "\n",
    "    def do_entry(message, history):\n",
    "        history += [{\"role\":\"user\", \"content\":message}]\n",
    "        return \"\", history\n",
    "\n",
    "    entry.submit(do_entry, inputs=[entry, chatbot], outputs=[entry, chatbot]).then(\n",
    "        chat, inputs=chatbot, outputs=[chatbot, translation]\n",
    "    )\n",
    "    clear.click(lambda: None, inputs=None, outputs=chatbot, queue=False)\n",
    "\n",
    "ui.launch(inbrowser=True)"
   ]
  },
  {
   "cell_type": "markdown",
   "id": "77678c14-f56d-4cb2-9deb-6bdebc5919cd",
   "metadata": {},
   "source": [
    "Find a way to show the above text in Gradio!!"
   ]
  }
 ],
 "metadata": {
  "kernelspec": {
   "display_name": "Python 3 (ipykernel)",
   "language": "python",
   "name": "python3"
  },
  "language_info": {
   "codemirror_mode": {
    "name": "ipython",
    "version": 3
   },
   "file_extension": ".py",
   "mimetype": "text/x-python",
   "name": "python",
   "nbconvert_exporter": "python",
   "pygments_lexer": "ipython3",
   "version": "3.11.11"
  }
 },
 "nbformat": 4,
 "nbformat_minor": 5
}
